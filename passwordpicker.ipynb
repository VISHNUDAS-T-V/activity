{
 "cells": [
  {
   "cell_type": "code",
   "execution_count": 4,
   "id": "5caa3816",
   "metadata": {},
   "outputs": [
    {
     "name": "stdout",
     "output_type": "stream",
     "text": [
      "Password picker\n",
      "Password is: majorcat67}\n"
     ]
    }
   ],
   "source": [
    "import random\n",
    "adjectives = ['economic','federal','full','great','hard','human','important','international','little','local','long','low','major',\n",
    "              'military','national','new','old','only','other','political','possible','public','real','recent','right',\n",
    "              'small','social','special','strong','sure','true','white','whole','young']\n",
    "nouns = ['mother','father','baby','child','toddler','teenager','grandmother','student','teacher','minister','businessperson',\n",
    "        'salesclerk','woman','man','table','truck','book','pencil','iPad','computer','coat','boots''lion','tiger','bear','dog',\n",
    "        'cat','alligator','cricket','bird','wolf']\n",
    "numbers = list(range(0,100))\n",
    "punctuation = ['<','>','?','/',':',';','[',']','{','}','(',')','=','+','-','_','*','^','%','$','#','@','!']\n",
    "\n",
    "adj = random.choice(adjectives)\n",
    "noun = random.choice(nouns)\n",
    "num = random.choice(numbers)\n",
    "pun = random.choice(punctuation)\n",
    "password = str(adj)+str(noun)+str(num)+str(pun)\n",
    "print('Password picker')\n",
    "print('Password is:',password)"
   ]
  },
  {
   "cell_type": "code",
   "execution_count": null,
   "id": "a078d5a0",
   "metadata": {},
   "outputs": [],
   "source": []
  },
  {
   "cell_type": "code",
   "execution_count": null,
   "id": "20fb2d2e",
   "metadata": {},
   "outputs": [],
   "source": []
  }
 ],
 "metadata": {
  "kernelspec": {
   "display_name": "Python 3 (ipykernel)",
   "language": "python",
   "name": "python3"
  },
  "language_info": {
   "codemirror_mode": {
    "name": "ipython",
    "version": 3
   },
   "file_extension": ".py",
   "mimetype": "text/x-python",
   "name": "python",
   "nbconvert_exporter": "python",
   "pygments_lexer": "ipython3",
   "version": "3.8.12"
  }
 },
 "nbformat": 4,
 "nbformat_minor": 5
}
