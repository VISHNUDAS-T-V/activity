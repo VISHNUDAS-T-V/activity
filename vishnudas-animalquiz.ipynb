{
 "cells": [
  {
   "cell_type": "code",
   "execution_count": 55,
   "id": "a1b9a347",
   "metadata": {},
   "outputs": [
    {
     "name": "stdout",
     "output_type": "stream",
     "text": [
      "Guess the Animal!\n",
      "Which bear lives at the north pole? POLARBEAR\n",
      "Correct answer\n",
      "Which is the fastest land animal? cheetah\n",
      "Correct answer\n",
      "Which is the largest animal? giraffe\n",
      "Sorry, wrong answer. Try again. rhinoceros\n",
      "Sorry, wrong answer. Try again. elephant\n",
      "The correct answer is bluewhale\n",
      "Your score is 2\n"
     ]
    }
   ],
   "source": [
    "def animal_quiz():\n",
    "    score = 0\n",
    "    print('Guess the Animal!')\n",
    "    first_question = input('Which bear lives at the north pole? ')\n",
    "    for i in range(0,2):\n",
    "        if first_question.upper() == 'POLARBEAR':\n",
    "            print('Correct answer')\n",
    "            score += 1\n",
    "            break\n",
    "        else:\n",
    "            first_question = input('Sorry, wrong answer. Try again. ').upper()\n",
    "        if i==1 and first_question == 'POLARBEAR':\n",
    "            print('corect answer')\n",
    "        if i==1 and first_question != 'POLARBEAR':\n",
    "            print('The correct answer is polarbear')\n",
    "       \n",
    "    second_question = input('Which is the fastest land animal? ')\n",
    "    for i in range(0,2):\n",
    "        if second_question.upper() == 'CHEETAH':\n",
    "            print('Correct answer')\n",
    "            score += 1\n",
    "            break\n",
    "        else:\n",
    "            second_question = input('Sorry, wrong answer. Try again. ').upper()\n",
    "        if i==1 and second_question == 'CHEETAH':\n",
    "            print('corect answer')\n",
    "        if i==1 and second_question != 'CHEETAH':\n",
    "            print('The correct answer is Cheetah')\n",
    "       \n",
    "   \n",
    "    third_question = input('Which is the largest animal? ')\n",
    "    for i in range(0,2):\n",
    "            if third_question.upper() == 'BLUEWHALE':\n",
    "                print('Correct answer')\n",
    "                score += 1\n",
    "                break\n",
    "            else:\n",
    "                third_question = input('Sorry, wrong answer. Try again. ').upper()\n",
    "            if i==1 and third_question == 'BLUEWHALE':\n",
    "                print('corect answer')\n",
    "            if i==1 and third_question != 'BLUEWHALE':\n",
    "                print('The correct answer is bluewhale')\n",
    "    print('Your score is',score)\n",
    "animal_quiz()\n",
    "\n",
    "    "
   ]
  },
  {
   "cell_type": "code",
   "execution_count": null,
   "id": "3074ff4c",
   "metadata": {},
   "outputs": [],
   "source": []
  }
 ],
 "metadata": {
  "kernelspec": {
   "display_name": "Python 3 (ipykernel)",
   "language": "python",
   "name": "python3"
  },
  "language_info": {
   "codemirror_mode": {
    "name": "ipython",
    "version": 3
   },
   "file_extension": ".py",
   "mimetype": "text/x-python",
   "name": "python",
   "nbconvert_exporter": "python",
   "pygments_lexer": "ipython3",
   "version": "3.8.12"
  }
 },
 "nbformat": 4,
 "nbformat_minor": 5
}
